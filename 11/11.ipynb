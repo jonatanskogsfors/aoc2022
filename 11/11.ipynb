{
 "cells": [
  {
   "cell_type": "code",
   "execution_count": 1,
   "id": "a222fb33-ecae-4633-8f67-8b43892da5ca",
   "metadata": {},
   "outputs": [],
   "source": [
    "from dataclasses import dataclass\n",
    "from pathlib import Path\n",
    "import re\n",
    "from collections import deque\n",
    "import math"
   ]
  },
  {
   "cell_type": "code",
   "execution_count": 2,
   "id": "6598fe3e-f1f6-4e2c-a622-af34cff9072d",
   "metadata": {},
   "outputs": [],
   "source": [
    "test_input = \"\"\"Monkey 0:\n",
    "  Starting items: 79, 98\n",
    "  Operation: new = old * 19\n",
    "  Test: divisible by 23\n",
    "    If true: throw to monkey 2\n",
    "    If false: throw to monkey 3\n",
    "\n",
    "Monkey 1:\n",
    "  Starting items: 54, 65, 75, 74\n",
    "  Operation: new = old + 6\n",
    "  Test: divisible by 19\n",
    "    If true: throw to monkey 2\n",
    "    If false: throw to monkey 0\n",
    "\n",
    "Monkey 2:\n",
    "  Starting items: 79, 60, 97\n",
    "  Operation: new = old * old\n",
    "  Test: divisible by 13\n",
    "    If true: throw to monkey 1\n",
    "    If false: throw to monkey 3\n",
    "\n",
    "Monkey 3:\n",
    "  Starting items: 74\n",
    "  Operation: new = old + 3\n",
    "  Test: divisible by 17\n",
    "    If true: throw to monkey 0\n",
    "    If false: throw to monkey 1\n",
    "\"\"\""
   ]
  },
  {
   "cell_type": "code",
   "execution_count": 3,
   "id": "f6ce46cd-c6ba-4e55-a472-294bb19e3a1c",
   "metadata": {},
   "outputs": [],
   "source": [
    "ITEMS_PATTERN = re.compile(\"Starting items: ((?:\\d+(?:, )?)+)\")\n",
    "OPERATION_PATTERN = re.compile(\"Operation: new = (.*)\")\n",
    "TEST_PATTERN = re.compile(\"Test: divisible by (\\d+)\")\n",
    "TRUE_PATTERN = re.compile(\"If true: throw to monkey (\\d+)\")\n",
    "FALSE_PATTERN = re.compile(\"If false: throw to monkey (\\d+)\")\n",
    "\n",
    "\n",
    "@dataclass\n",
    "class Monkey:\n",
    "    items: deque[int]\n",
    "    operation: tuple\n",
    "    test: int\n",
    "    if_true: int\n",
    "    if_false: int\n",
    "    inspections: int = 0\n",
    "        \n",
    "    def inspect_items(self, crazy_bananas=None):\n",
    "        if self.items:\n",
    "            self.inspections += len(self.items)\n",
    "        if crazy_bananas:\n",
    "            self.items = [self._operation(item) for item in self.items]\n",
    "            self.items = [item % crazy_bananas for item in self.items]\n",
    "        else:\n",
    "            self.items = [math.floor(self._operation(item) / 3) for item in self.items]\n",
    "\n",
    "    def throw_items(self):\n",
    "        throw_items = [\n",
    "            (self.if_true if item % self.test == 0 else self.if_false, item)\n",
    "            for item in self.items\n",
    "        ]\n",
    "        self.items = []\n",
    "        return throw_items\n",
    "    \n",
    "    def receive_item(self, item):\n",
    "        self.items.append(item)\n",
    "        \n",
    "    def _operation(self, item):\n",
    "        match self.operation:\n",
    "            case a, \"+\", b:\n",
    "                a = item if a == \"old\" else int(a)\n",
    "                b = item if b == \"old\" else int(b)\n",
    "                return a + b\n",
    "            case a, \"*\", b:\n",
    "                a = item if a == \"old\" else int(a)\n",
    "                b = item if b == \"old\" else int(b)\n",
    "                return a * b\n",
    "            case _:\n",
    "                raise Exception()\n",
    "    \n",
    "    @classmethod\n",
    "    def from_string(cls, monkey_string):\n",
    "        if items_match := ITEMS_PATTERN.search(monkey_string):\n",
    "            items = list(map(int, items_match.group(1).split(\", \")))\n",
    "            \n",
    "        if items_match := OPERATION_PATTERN.search(monkey_string):\n",
    "            operation = tuple(\n",
    "                map(lambda e: int(e) if e.isnumeric() else e, items_match.group(1).split(\" \"))\n",
    "            )\n",
    "        \n",
    "        if test_match := TEST_PATTERN.search(monkey_string):\n",
    "            test = int(test_match.group(1))\n",
    "        \n",
    "        if true_match := TRUE_PATTERN.search(monkey_string):\n",
    "            if_true = int(true_match.group(1))\n",
    "\n",
    "        if false_match := FALSE_PATTERN.search(monkey_string):\n",
    "            if_false = int(false_match.group(1))\n",
    "        \n",
    "        return cls(items, operation, test, if_true, if_false)\n",
    "\n",
    "def parse_input(monkey_input):\n",
    "    return [Monkey.from_string(monkey) for monkey in monkey_input.strip().split(\"\\n\\n\")]\n",
    "\n",
    "def do_round(monkeys, crazy_bananas=False):\n",
    "    for monkey in monkeys:\n",
    "        monkey.inspect_items(crazy_bananas=crazy_bananas)\n",
    "        for other_monkey, item in monkey.throw_items():\n",
    "            monkeys[other_monkey].receive_item(item)\n",
    "\n",
    "monkeys = parse_input(test_input)\n",
    "assert len(monkeys) == 4\n",
    "assert monkeys[0].items == [79, 98]\n",
    "assert monkeys[0].operation == (\"old\", \"*\", 19)\n",
    "assert monkeys[0].test == 23\n",
    "assert monkeys[0].if_true == 2\n",
    "assert monkeys[0].if_false == 3"
   ]
  },
  {
   "cell_type": "code",
   "execution_count": 4,
   "id": "d3db3955-95b6-4d6a-8e31-ff4d1990f710",
   "metadata": {},
   "outputs": [],
   "source": [
    "# Part 1 - test\n",
    "monkeys = parse_input(test_input)\n",
    "for n in range(20):\n",
    "    do_round(monkeys)\n",
    "top_monkeys = sorted(monkeys, key=lambda m: m.inspections, reverse=True)[0:2]\n",
    "assert math.prod([monkey.inspections for monkey in top_monkeys]) == 10605"
   ]
  },
  {
   "cell_type": "code",
   "execution_count": 5,
   "id": "302619d2-8f7f-461c-8370-64bda36e3b10",
   "metadata": {},
   "outputs": [
    {
     "name": "stdout",
     "output_type": "stream",
     "text": [
      "100345\n"
     ]
    }
   ],
   "source": [
    "# Part 1\n",
    "monkeys = parse_input(Path(\"input.txt\").read_text())\n",
    "for n in range(20):\n",
    "    do_round(monkeys)\n",
    "top_monkeys = sorted(monkeys, key=lambda m: m.inspections, reverse=True)[0:2]\n",
    "print(math.prod([monkey.inspections for monkey in top_monkeys]))"
   ]
  },
  {
   "cell_type": "code",
   "execution_count": 6,
   "id": "ccfd88e4-178e-458d-9856-80456719e869",
   "metadata": {},
   "outputs": [],
   "source": [
    "# Part 2 - test\n",
    "monkeys = parse_input(test_input)\n",
    "test_product = math.prod(m.test for m in monkeys)\n",
    "for n in range(10000):\n",
    "    do_round(monkeys, crazy_bananas=test_product)\n",
    "\n",
    "top_monkeys = sorted(monkeys, key=lambda m: m.inspections, reverse=True)[0:2]\n",
    "assert math.prod([monkey.inspections for monkey in top_monkeys]) == 2713310158"
   ]
  },
  {
   "cell_type": "code",
   "execution_count": 7,
   "id": "f74c29bb-f212-44a1-82a2-d7a0bb3c21a5",
   "metadata": {},
   "outputs": [
    {
     "name": "stdout",
     "output_type": "stream",
     "text": [
      "28537348205\n"
     ]
    }
   ],
   "source": [
    "# Part 2\n",
    "# Guesses: 18192789587 (low)\n",
    "\n",
    "monkeys = parse_input(Path(\"input.txt\").read_text())\n",
    "test_product = math.prod(m.test for m in monkeys)\n",
    "for n in range(10000):\n",
    "    do_round(monkeys, crazy_bananas=test_product)\n",
    "top_monkeys = sorted(monkeys, key=lambda m: m.inspections, reverse=True)[0:2]\n",
    "print(math.prod([monkey.inspections for monkey in top_monkeys]))"
   ]
  }
 ],
 "metadata": {
  "kernelspec": {
   "display_name": "Python 3 (ipykernel)",
   "language": "python",
   "name": "python3"
  },
  "language_info": {
   "codemirror_mode": {
    "name": "ipython",
    "version": 3
   },
   "file_extension": ".py",
   "mimetype": "text/x-python",
   "name": "python",
   "nbconvert_exporter": "python",
   "pygments_lexer": "ipython3",
   "version": "3.11.0"
  }
 },
 "nbformat": 4,
 "nbformat_minor": 5
}
