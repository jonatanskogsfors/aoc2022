{
 "cells": [
  {
   "cell_type": "code",
   "execution_count": 1,
   "id": "e1d12f69-a1c5-45e9-bccb-f0ce59dc3a2b",
   "metadata": {},
   "outputs": [],
   "source": [
    "from pathlib import Path\n",
    "import copy"
   ]
  },
  {
   "cell_type": "code",
   "execution_count": 2,
   "id": "30e7a248-9164-410d-9295-759e62138b6f",
   "metadata": {},
   "outputs": [],
   "source": [
    "test_input = \"\"\"498,4 -> 498,6 -> 496,6\n",
    "503,4 -> 502,4 -> 502,9 -> 494,9\n",
    "\"\"\""
   ]
  },
  {
   "cell_type": "code",
   "execution_count": 3,
   "id": "186e1974-fca6-4682-92bf-75adbb230d98",
   "metadata": {},
   "outputs": [],
   "source": [
    "SAND_ENTRYPOINT = (500, 0)\n",
    "\n",
    "def parse_input(rock_location, floor=False):\n",
    "    rock_formations = [\n",
    "        [tuple(map(int, element.split(\",\"))) for element in row.split(\" -> \")]\n",
    "        for row in rock_location.strip().split(\"\\n\")\n",
    "    ]\n",
    "    \n",
    "    max_y = max(point[1] for formation in rock_formations for point in formation)\n",
    "    max_x = max(point[0] for formation in rock_formations for point in formation)\n",
    "    min_x = min(point[0] for formation in rock_formations for point in formation)\n",
    "    \n",
    "    if floor:\n",
    "        max_y += 2\n",
    "        min_x = min((500 - (max_y + max_y-1) // 2) - 1, max_x)\n",
    "        max_x = max((500 + (max_y + max_y-1) // 2) + 1, max_x)\n",
    "    \n",
    "    rock_map = [[\".\"] * (max_x - min_x + 1) for y in range(max_y + 1)]\n",
    "    for formation in rock_formations:\n",
    "        for n, point in enumerate(formation[1:]):\n",
    "            previous_point = formation[n]\n",
    "            x1, x2 = previous_point[0], point[0]\n",
    "            if x1 > x2:\n",
    "                x1, x2 = x2, x1\n",
    "                \n",
    "            y1, y2 = previous_point[1], point[1]\n",
    "            if y1 > y2:\n",
    "                y1, y2 = y2, y1\n",
    "            \n",
    "            for y in range(y1, y2 + 1):\n",
    "                for x in range(x1, x2 + 1):\n",
    "                    x -= min_x\n",
    "                    rock_map[y][x] = \"#\"\n",
    "    if floor:\n",
    "        for x in range(max_x + 1 - min_x):\n",
    "            rock_map[-1][x] = \"#\"\n",
    "    return rock_map, min_x      \n",
    "\n",
    "def new_sand_unit(rock_map, x_offset):\n",
    "    x, y = SAND_ENTRYPOINT\n",
    "    x -= x_offset\n",
    "    \n",
    "    sand_in_motion = True\n",
    "    while sand_in_motion:\n",
    "        if y == len(rock_map) - 1 or x in (0, len(rock_map[0])-1):\n",
    "            break\n",
    "        if rock_map[y + 1][x] == \".\":\n",
    "            y += 1\n",
    "        elif rock_map[y + 1][x - 1] == \".\":\n",
    "            x -= 1\n",
    "            y += 1\n",
    "        elif rock_map[y + 1][x + 1] == \".\":\n",
    "            x += 1\n",
    "            y += 1\n",
    "        else:\n",
    "            sand_in_motion = False\n",
    "            rock_map[y][x] = \"o\"  \n",
    "    return rock_map\n",
    "\n",
    "def new_sand_unit_detect_freefall(rock_map, x_offset):\n",
    "    initial_rock_map = copy.deepcopy(rock_map)\n",
    "    new_rock_map = new_sand_unit(rock_map, x_offset)\n",
    "    return new_rock_map, new_rock_map == initial_rock_map\n",
    "\n",
    "    \n",
    "rock_map, x_offset = parse_input(test_input)\n",
    "assert len(rock_map) == 10\n",
    "assert len(rock_map[0]) == 10\n",
    "\n",
    "rock_map, _ = new_sand_unit_detect_freefall(rock_map, x_offset)\n",
    "assert rock_map[8][500-x_offset] == \"o\"\n",
    "\n",
    "rock_map, _ = new_sand_unit_detect_freefall(rock_map, x_offset)\n",
    "assert rock_map[8][499-x_offset] == \"o\""
   ]
  },
  {
   "cell_type": "code",
   "execution_count": 4,
   "id": "a0c9f072-20a3-4e5b-ac8b-9ff9da3243d8",
   "metadata": {},
   "outputs": [],
   "source": [
    "# Part 1 - test\n",
    "\n",
    "rock_map, x_offset = parse_input(test_input)\n",
    "free_falling = False\n",
    "resting = 0\n",
    "while not free_falling:\n",
    "    rock_map, free_falling = new_sand_unit_detect_freefall(rock_map, x_offset)\n",
    "    if not free_falling:\n",
    "        resting += 1\n",
    "assert resting == 24"
   ]
  },
  {
   "cell_type": "code",
   "execution_count": 5,
   "id": "aec86aa3-16d8-484b-ba2a-507d761bfbac",
   "metadata": {},
   "outputs": [
    {
     "name": "stdout",
     "output_type": "stream",
     "text": [
      "625\n"
     ]
    }
   ],
   "source": [
    "# Part 1\n",
    "\n",
    "rock_map, x_offset = parse_input(Path(\"input.txt\").read_text())\n",
    "free_falling = False\n",
    "resting = 0\n",
    "while not free_falling:\n",
    "    rock_map, free_falling = new_sand_unit_detect_freefall(rock_map, x_offset)\n",
    "    if not free_falling:\n",
    "        resting += 1\n",
    "\n",
    "print(resting)"
   ]
  },
  {
   "cell_type": "code",
   "execution_count": 6,
   "id": "c5642cbd-d9ed-4334-a038-7cd42ce869ad",
   "metadata": {},
   "outputs": [],
   "source": [
    "# Part 2 - test\n",
    "\n",
    "rock_map, x_offset = parse_input(test_input, floor=True)\n",
    "resting = 0\n",
    "while rock_map[0][500-x_offset] == \".\":\n",
    "    rock_map = new_sand_unit(rock_map, x_offset)\n",
    "    resting += 1\n",
    "\n",
    "assert resting == 93"
   ]
  },
  {
   "cell_type": "code",
   "execution_count": 7,
   "id": "6d39a85d-9ab2-4979-afab-cb849e64d1ee",
   "metadata": {},
   "outputs": [
    {
     "name": "stdout",
     "output_type": "stream",
     "text": [
      "25193\n"
     ]
    }
   ],
   "source": [
    "# Part 2\n",
    "\n",
    "rock_map, x_offset = parse_input(Path(\"input.txt\").read_text(), floor=True)\n",
    "resting = 0\n",
    "while rock_map[0][500-x_offset] == \".\":\n",
    "    rock_map = new_sand_unit(rock_map, x_offset)\n",
    "    resting += 1\n",
    "\n",
    "print(resting)"
   ]
  }
 ],
 "metadata": {
  "kernelspec": {
   "display_name": "Python 3 (ipykernel)",
   "language": "python",
   "name": "python3"
  },
  "language_info": {
   "codemirror_mode": {
    "name": "ipython",
    "version": 3
   },
   "file_extension": ".py",
   "mimetype": "text/x-python",
   "name": "python",
   "nbconvert_exporter": "python",
   "pygments_lexer": "ipython3",
   "version": "3.11.0"
  }
 },
 "nbformat": 4,
 "nbformat_minor": 5
}
