{
 "cells": [
  {
   "cell_type": "code",
   "execution_count": 1,
   "id": "97b26139-02a1-45a2-87d7-4285af604695",
   "metadata": {},
   "outputs": [],
   "source": [
    "from pathlib import Path\n",
    "from queue import PriorityQueue"
   ]
  },
  {
   "cell_type": "code",
   "execution_count": 2,
   "id": "11bc4e59-62c2-48df-969b-ca6f08f6a312",
   "metadata": {},
   "outputs": [],
   "source": [
    "test_input = \"\"\"Sabqponm\n",
    "abcryxxl\n",
    "accszExk\n",
    "acctuvwj\n",
    "abdefghi\"\"\""
   ]
  },
  {
   "cell_type": "code",
   "execution_count": 3,
   "id": "77dfb4ef-b55c-4cc7-b007-8c9a1f8d0d73",
   "metadata": {},
   "outputs": [],
   "source": [
    "def parse_input(map_input):\n",
    "    return [list(row) for row in map_input.strip().split(\"\\n\")]\n",
    "\n",
    "def find_square(heightmap, target):\n",
    "    for y, row in enumerate(heightmap):\n",
    "        for x, square in enumerate(row):\n",
    "            if square == target:\n",
    "                return x, y\n",
    "\n",
    "def squares_by_elevation(elevation, heightmap):\n",
    "    return [\n",
    "        (x, y)\n",
    "        for y, row in enumerate(heightmap)\n",
    "        for x, square in enumerate(row)\n",
    "        if square == elevation\n",
    "    ]\n",
    "    \n",
    "def neighbors_for(position, heightmap):\n",
    "    x, y = position\n",
    "    elevation = heightmap[y][x]\n",
    "    if elevation == \"S\":\n",
    "        elevation = \"a\"\n",
    "    neighbors = []\n",
    "    for test_x, test_y in ((x-1, y), (x+1, y), (x, y-1), (x, y+1)):\n",
    "        if (test_x < 0 or\n",
    "            test_y < 0 or\n",
    "            test_y >= len(heightmap) or\n",
    "            test_x >= len(heightmap[0])):\n",
    "            continue\n",
    "        neighbor_elevation = heightmap[test_y][test_x]\n",
    "        if neighbor_elevation == \"E\":\n",
    "            neighbor_elevation = \"z\"\n",
    "        if ord(neighbor_elevation) - ord(elevation) < 2:\n",
    "            neighbors.append((test_x, test_y))\n",
    "    return neighbors\n",
    "    \n",
    "    \n",
    "def dijkstra(start, goal, heightmap):\n",
    "    costs = {start: 0}\n",
    "    unvisited_nodes = PriorityQueue()\n",
    "    unvisited_nodes.put((0, start))\n",
    "\n",
    "    while unvisited_nodes.queue:\n",
    "        _, position = unvisited_nodes.get()      \n",
    "        if position == goal:\n",
    "            break\n",
    "        for x, y in neighbors_for(position, heightmap):\n",
    "            new_cost = costs[position] + 1\n",
    "            if (x, y) not in costs or new_cost < costs[(x, y)]:\n",
    "                costs[(x, y)] = new_cost\n",
    "                unvisited_nodes.put((new_cost, (x, y)))\n",
    "    return costs.get(goal)   \n",
    "    \n",
    "heightmap = parse_input(test_input)\n",
    "assert find_square(heightmap, \"S\") == (0,0)\n",
    "assert find_square(heightmap, \"E\") == (5,2)"
   ]
  },
  {
   "cell_type": "code",
   "execution_count": 4,
   "id": "c4d85537-1446-40d8-b66e-f83e7f775bf5",
   "metadata": {},
   "outputs": [],
   "source": [
    "# Part 1 - Test\n",
    "heightmap = parse_input(test_input)\n",
    "start = find_square(heightmap, \"S\")\n",
    "goal = find_square(heightmap, \"E\")\n",
    "assert dijkstra(start, goal, heightmap) == 31"
   ]
  },
  {
   "cell_type": "code",
   "execution_count": 5,
   "id": "613bda27-6619-4126-b71d-6a95aca50f64",
   "metadata": {},
   "outputs": [
    {
     "data": {
      "text/plain": [
       "380"
      ]
     },
     "execution_count": 5,
     "metadata": {},
     "output_type": "execute_result"
    }
   ],
   "source": [
    "# Part 1\n",
    "heightmap = parse_input(Path(\"input.txt\").read_text())\n",
    "start = find_square(heightmap, \"S\")\n",
    "goal = find_square(heightmap, \"E\")\n",
    "dijkstra(start, goal, heightmap)"
   ]
  },
  {
   "cell_type": "code",
   "execution_count": 6,
   "id": "89883dd2-1258-4ddd-8f39-77fd672b4b5d",
   "metadata": {},
   "outputs": [],
   "source": [
    "# Part 2 - Test\n",
    "heightmap = parse_input(test_input)\n",
    "start_points = squares_by_elevation(\"a\", heightmap)\n",
    "goal = find_square(heightmap, \"E\")\n",
    "paths = []\n",
    "for start in start_points:\n",
    "    paths.append(dijkstra(start, goal, heightmap))\n",
    "    \n",
    "assert min(paths) == 29"
   ]
  },
  {
   "cell_type": "code",
   "execution_count": 7,
   "id": "ad14d444-f6bb-4fd8-b7bc-b0c02407fbf9",
   "metadata": {},
   "outputs": [
    {
     "name": "stdout",
     "output_type": "stream",
     "text": [
      "375\n"
     ]
    }
   ],
   "source": [
    "# Part 2\n",
    "heightmap = parse_input(Path(\"input.txt\").read_text())\n",
    "paths = []\n",
    "\n",
    "start_points = squares_by_elevation(\"a\", heightmap)\n",
    "goal = find_square(heightmap, \"E\")\n",
    "for start in start_points:\n",
    "    if steps := dijkstra(start, goal, heightmap):\n",
    "        paths.append(steps)\n",
    "    \n",
    "print(min(paths))"
   ]
  }
 ],
 "metadata": {
  "kernelspec": {
   "display_name": "Python 3 (ipykernel)",
   "language": "python",
   "name": "python3"
  },
  "language_info": {
   "codemirror_mode": {
    "name": "ipython",
    "version": 3
   },
   "file_extension": ".py",
   "mimetype": "text/x-python",
   "name": "python",
   "nbconvert_exporter": "python",
   "pygments_lexer": "ipython3",
   "version": "3.11.0"
  }
 },
 "nbformat": 4,
 "nbformat_minor": 5
}
