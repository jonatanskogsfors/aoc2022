{
 "cells": [
  {
   "cell_type": "code",
   "execution_count": 1,
   "id": "bd9103fc-5577-421d-9525-cc56aac84deb",
   "metadata": {},
   "outputs": [],
   "source": [
    "import functools\n",
    "from pathlib import Path"
   ]
  },
  {
   "cell_type": "code",
   "execution_count": 2,
   "id": "2bee0b77-ba50-4b1c-927f-8766e24b8024",
   "metadata": {},
   "outputs": [],
   "source": [
    "test_input = \"\"\"[1,1,3,1,1]\n",
    "[1,1,5,1,1]\n",
    "\n",
    "[[1],[2,3,4]]\n",
    "[[1],4]\n",
    "\n",
    "[9]\n",
    "[[8,7,6]]\n",
    "\n",
    "[[4,4],4,4]\n",
    "[[4,4],4,4,4]\n",
    "\n",
    "[7,7,7,7]\n",
    "[7,7,7]\n",
    "\n",
    "[]\n",
    "[3]\n",
    "\n",
    "[[[]]]\n",
    "[[]]\n",
    "\n",
    "[1,[2,[3,[4,[5,6,7]]]],8,9]\n",
    "[1,[2,[3,[4,[5,6,0]]]],8,9]\"\"\""
   ]
  },
  {
   "cell_type": "code",
   "execution_count": 3,
   "id": "c023b18e-2df1-4769-a34b-ba05f92a7c1a",
   "metadata": {},
   "outputs": [],
   "source": [
    "def parse_input(packet_data, pairs=True):\n",
    "    if pairs:\n",
    "        return [tuple(map(eval, packet.split(\"\\n\"))) for packet in packet_data.strip().split(\"\\n\\n\")]\n",
    "    else:\n",
    "        return [eval(packet) for packet in packet_data.strip().split(\"\\n\") if packet] + [[[2]], [[6]]]\n",
    "\n",
    "def in_order(a, b):\n",
    "    #print(f\"Compare: {a} vs {b}\")\n",
    "    match a, b:\n",
    "        case int(a), int(b):\n",
    "            if a > b:\n",
    "                return 1\n",
    "            elif a < b:\n",
    "                return -1\n",
    "            else:\n",
    "                return 0\n",
    "        case list(a), list(b):\n",
    "            for a2, b2 in zip(a, b):\n",
    "                comparison = in_order(a2, b2)\n",
    "                if abs(comparison) == 1:\n",
    "                    return comparison\n",
    "            if len(a) < len(b):\n",
    "                #print(\"Left ran out of items\")\n",
    "                return -1\n",
    "            elif len(a) > len(b):\n",
    "                #print(\"Right ran out of items\")\n",
    "                return +1\n",
    "            return 0\n",
    "        case list(a), int(b):\n",
    "            return in_order(a, [b])\n",
    "        case int(a), list(b):\n",
    "            return in_order([a], b)\n",
    "        \n",
    "def decode_key(packets):\n",
    "    packets.sort(key=functools.cmp_to_key(in_order))\n",
    "    divider_1 = packets.index([[2]]) + 1\n",
    "    divider_2 = packets.index([[6]]) + 1\n",
    "    return divider_1 * divider_2\n",
    "\n",
    "packets = parse_input(test_input)\n",
    "\n",
    "assert in_order(*packets[0]) == -1\n",
    "assert in_order(*packets[1]) == -1\n",
    "assert in_order(*packets[2]) == 1\n",
    "assert in_order(*packets[3]) == -1\n",
    "assert in_order(*packets[4]) == 1\n",
    "assert in_order(*packets[5]) == -1\n",
    "assert in_order(*packets[6]) == 1\n",
    "assert in_order(*packets[7]) == 1\n",
    "\n",
    "assert len(parse_input(test_input, pairs=False)) == 18"
   ]
  },
  {
   "cell_type": "code",
   "execution_count": 4,
   "id": "66f53865-701a-489b-a566-f150b7d9675c",
   "metadata": {},
   "outputs": [],
   "source": [
    "# Part 1 - test\n",
    "packets = parse_input(test_input)\n",
    "assert sum([n for n, packet in enumerate(packets, start=1) if in_order(*packet) == -1]) == 13"
   ]
  },
  {
   "cell_type": "code",
   "execution_count": 5,
   "id": "e10316f0-a9ac-48cc-9267-16b72ec6ee3b",
   "metadata": {},
   "outputs": [
    {
     "name": "stdout",
     "output_type": "stream",
     "text": [
      "5503\n"
     ]
    }
   ],
   "source": [
    "# Part 1\n",
    "packets = parse_input(Path(\"input.txt\").read_text())\n",
    "print(sum([n for n, packet in enumerate(packets, start=1) if in_order(*packet) == -1]))"
   ]
  },
  {
   "cell_type": "code",
   "execution_count": 6,
   "id": "9a31fd13-b29a-4467-9597-c83a13ad230f",
   "metadata": {},
   "outputs": [],
   "source": [
    "# Part 2 - test\n",
    "packets = parse_input(test_input, pairs=False)\n",
    "assert decode_key(packets) == 140"
   ]
  },
  {
   "cell_type": "code",
   "execution_count": 7,
   "id": "2d411c16-fbaf-4326-b569-e02c7624995d",
   "metadata": {},
   "outputs": [
    {
     "name": "stdout",
     "output_type": "stream",
     "text": [
      "20952\n"
     ]
    }
   ],
   "source": [
    "# Part 2 - test\n",
    "packets = parse_input(Path(\"input.txt\").read_text(), pairs=False)\n",
    "print(decode_key(packets))"
   ]
  }
 ],
 "metadata": {
  "kernelspec": {
   "display_name": "Python 3 (ipykernel)",
   "language": "python",
   "name": "python3"
  },
  "language_info": {
   "codemirror_mode": {
    "name": "ipython",
    "version": 3
   },
   "file_extension": ".py",
   "mimetype": "text/x-python",
   "name": "python",
   "nbconvert_exporter": "python",
   "pygments_lexer": "ipython3",
   "version": "3.10.7"
  }
 },
 "nbformat": 4,
 "nbformat_minor": 5
}
