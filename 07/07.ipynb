{
 "cells": [
  {
   "cell_type": "code",
   "execution_count": 23,
   "id": "b30e0578-db90-4318-8db1-610a7595cb3a",
   "metadata": {},
   "outputs": [],
   "source": [
    "from pathlib import Path\n",
    "from collections import deque, defaultdict"
   ]
  },
  {
   "cell_type": "code",
   "execution_count": 3,
   "id": "21ae1c34-3919-443e-a771-3e646ecffbb3",
   "metadata": {},
   "outputs": [],
   "source": [
    "test_input = \"\"\"$ cd /\n",
    "$ ls\n",
    "dir a\n",
    "14848514 b.txt\n",
    "8504156 c.dat\n",
    "dir d\n",
    "$ cd a\n",
    "$ ls\n",
    "dir e\n",
    "29116 f\n",
    "2557 g\n",
    "62596 h.lst\n",
    "$ cd e\n",
    "$ ls\n",
    "584 i\n",
    "$ cd ..\n",
    "$ cd ..\n",
    "$ cd d\n",
    "$ ls\n",
    "4060174 j\n",
    "8033020 d.log\n",
    "5626152 d.ext\n",
    "7214296 k\"\"\""
   ]
  },
  {
   "cell_type": "code",
   "execution_count": 75,
   "id": "d5c77149-994e-4a72-aad4-038ca9d2bbb3",
   "metadata": {},
   "outputs": [],
   "source": [
    "def parse_terminal(output):\n",
    "    return deque([tuple(row.split()) for row in output.strip().split(\"\\n\")])\n",
    "\n",
    "def map_filesystem(terminal_output: deque):\n",
    "    filesystem = defaultdict(list)\n",
    "    cwd = [\"/\"]\n",
    "    while terminal_output:\n",
    "        command = terminal_output.popleft()\n",
    "        match command:\n",
    "            case \"$\", \"cd\", path:\n",
    "                cwd = cd(path, cwd)\n",
    "            case \"$\", \"ls\":\n",
    "                output = []\n",
    "                while terminal_output and \"$\" not in terminal_output[0]:\n",
    "                    output.append(terminal_output.popleft())\n",
    "                filesystem = ls(cwd, output, filesystem)\n",
    "    return filesystem\n",
    "\n",
    "def cd(path, cwd):\n",
    "    match path:\n",
    "        case \"/\":\n",
    "            return []\n",
    "        case \"..\":\n",
    "            return cwd[:-1]\n",
    "        case directory:\n",
    "            return cwd + [directory]\n",
    "\n",
    "def ls(cwd, output, filesystem):\n",
    "    for info, name in output:\n",
    "        if info != \"dir\":\n",
    "            filesystem[\"/\" + \"/\".join(cwd)].append((int(info), name))\n",
    "    return filesystem\n",
    "\n",
    "def directory_size(directory, filesystem):\n",
    "    return sum(size for path, files in filesystem.items() for (size, name) in files if path.startswith(directory))\n",
    "\n",
    "def get_directories(filesystem):\n",
    "    return \n",
    "\n",
    "test_filesystem = map_filesystem(parse_terminal(test_input))\n",
    "assert directory_size(\"/a/e\", test_filesystem) == 584\n",
    "assert directory_size(\"/a\", test_filesystem) == 94853\n",
    "assert directory_size(\"/d\", test_filesystem) == 24933642\n",
    "assert directory_size(\"/\", test_filesystem) == 48381165\n",
    "assert len(test_filesystem) == 4"
   ]
  },
  {
   "cell_type": "code",
   "execution_count": 68,
   "id": "601081bc-43b1-4b2d-b9e7-b947a3d5a4a0",
   "metadata": {},
   "outputs": [
    {
     "name": "stdout",
     "output_type": "stream",
     "text": [
      "[94853, 584]\n"
     ]
    }
   ],
   "source": [
    "# Part 1 - Test\n",
    "filesystem = map_filesystem(parse_terminal(test_input))\n",
    "assert sum(size for size in [directory_size(directory, filesystem) for directory in filesystem.keys()] if size <= 100000) == 95437"
   ]
  },
  {
   "cell_type": "code",
   "execution_count": 76,
   "id": "7a8c33cb-ce88-47b0-a587-7d94eb3ebdfe",
   "metadata": {},
   "outputs": [
    {
     "name": "stdout",
     "output_type": "stream",
     "text": [
      "1293614\n"
     ]
    }
   ],
   "source": [
    "# Part 1\n",
    "# Guesses: 1293614 (low)\n",
    "filesystem = map_filesystem(parse_terminal(Path(\"input.txt\").read_text()))\n",
    "print(sum(size for size in [directory_size(directory, filesystem) for directory in filesystem.keys()] if size <= 100000))"
   ]
  },
  {
   "cell_type": "code",
   "execution_count": 77,
   "id": "8ce10dd6-54b0-46a0-9e54-8ef9bfc12329",
   "metadata": {},
   "outputs": [
    {
     "name": "stdout",
     "output_type": "stream",
     "text": [
      "157\n"
     ]
    }
   ],
   "source": [
    "print(len(filesystem))"
   ]
  },
  {
   "cell_type": "code",
   "execution_count": 73,
   "id": "da93df46-cc33-4434-abd5-d31495994c96",
   "metadata": {},
   "outputs": [
    {
     "name": "stdout",
     "output_type": "stream",
     "text": [
      "/jpfrhmw/vbzr/blhstw: 98023\n",
      "/jpfrhmw/vbzr/rgdp/ssvzm: 82667\n",
      "/jqfwd/nhpqpdn: 86329\n",
      "/jqfwd/qtrv/vcgv/qlsgtfhf: 75227\n",
      "/jqfwd/wspztvjr/qnbq/qnbq/ccwmftsj/mfc/gghsht: 31767\n",
      "/ncgffsr/gfznw/ltfsndpd/ncgffsr: 9898\n",
      "/ncgffsr/gfznw/vcspqgn: 25386\n",
      "/ncgffsr/gfznw/wqpnp: 65905\n",
      "/rqdngnrq/hwhm/ncgffsr/zzfztql: 51096\n",
      "/rqdngnrq/zgn/shcvnqq/dvvmhzcq/qnbq/sgjtm/jzsntnbs: 67448\n",
      "/vsd/dfb/bpst/nqftnn/bbrsg: 73382\n",
      "/vsd/dfb/bpst/nqftnn/hfql: 14685\n",
      "/vsd/dfb/bpst/nqftnn/ssnjqbg: 77678\n",
      "/vsd/dfb/lcwhfzjw/bhdnnbvm: 40452\n",
      "/vsd/dfb/lcwhfzjw/fdnsvfh: 20765\n",
      "/vsd/dfb/lcwhfzjw/tlw/qqn: 39232\n",
      "/vsd/ncgffsr/csfssn/ncgffsr: 83639\n",
      "/vsd/ncgffsr/hjgm/ljqjtdmf/hlvbmpg: 54421\n",
      "/vsd/ncgffsr/hjgm/ljqjtdmf/nlqqshp/rvzprwhp: 35024\n",
      "/vsd/ncgffsr/hjgm/ljqjtdmf/wlsjnthg: 29178\n",
      "/vsd/rjzjrbvs/ftrlfg/ffsvh: 20370\n",
      "/vsd/rjzjrbvs/rdpbbd/gstfdm: 23734\n",
      "/vsd/rjzjrbvs/shcvnqq/cmwrqgfq: 81199\n",
      "/vsd/rjzjrbvs/shcvnqq/sqgnhc/qnbq: 62861\n",
      "/vtzvf: 43248\n",
      "1293614\n"
     ]
    }
   ],
   "source": [
    "summa = 0\n",
    "for k in filesystem.keys():\n",
    "    s = directory_size(k, filesystem)\n",
    "    if s <= 100000:\n",
    "        print(f\"{k}: {s}\")\n",
    "        summa += s\n",
    "print(summa)"
   ]
  },
  {
   "cell_type": "code",
   "execution_count": null,
   "id": "8529782f-a0b7-4fbf-bd2a-ddd9ca1d2066",
   "metadata": {},
   "outputs": [],
   "source": []
  }
 ],
 "metadata": {
  "kernelspec": {
   "display_name": "Python 3 (ipykernel)",
   "language": "python",
   "name": "python3"
  },
  "language_info": {
   "codemirror_mode": {
    "name": "ipython",
    "version": 3
   },
   "file_extension": ".py",
   "mimetype": "text/x-python",
   "name": "python",
   "nbconvert_exporter": "python",
   "pygments_lexer": "ipython3",
   "version": "3.11.0"
  }
 },
 "nbformat": 4,
 "nbformat_minor": 5
}
