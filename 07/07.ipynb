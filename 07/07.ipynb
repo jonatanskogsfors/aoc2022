{
 "cells": [
  {
   "cell_type": "code",
   "execution_count": 140,
   "id": "b30e0578-db90-4318-8db1-610a7595cb3a",
   "metadata": {},
   "outputs": [],
   "source": [
    "from pathlib import Path\n",
    "from collections import deque, defaultdict"
   ]
  },
  {
   "cell_type": "code",
   "execution_count": 143,
   "id": "21ae1c34-3919-443e-a771-3e646ecffbb3",
   "metadata": {},
   "outputs": [],
   "source": [
    "test_input = \"\"\"$ cd /\n",
    "$ ls\n",
    "dir a\n",
    "14848514 b.txt\n",
    "8504156 c.dat\n",
    "dir d\n",
    "$ cd a\n",
    "$ ls\n",
    "dir e\n",
    "29116 f\n",
    "2557 g\n",
    "62596 h.lst\n",
    "$ cd e\n",
    "$ ls\n",
    "584 i\n",
    "$ cd ..\n",
    "$ cd ..\n",
    "$ cd d\n",
    "$ ls\n",
    "4060174 j\n",
    "8033020 d.log\n",
    "5626152 d.ext\n",
    "7214296 k\"\"\""
   ]
  },
  {
   "cell_type": "code",
   "execution_count": 214,
   "id": "d5c77149-994e-4a72-aad4-038ca9d2bbb3",
   "metadata": {},
   "outputs": [],
   "source": [
    "FILESYSTEM_SIZE = 70000000\n",
    "UPDATE_SIZE = 30000000\n",
    "\n",
    "\n",
    "class Directory:\n",
    "    def __init__(self, path, parent):\n",
    "        self._path = path\n",
    "        self._files = {}\n",
    "        self._directories = {}\n",
    "        self.parent = parent\n",
    "        \n",
    "    def ls(self, listing):\n",
    "        for info, name in listing:\n",
    "            if info == \"dir\":\n",
    "                self._directories[name] = Directory(f\"{self._path}{name}/\", self)\n",
    "            else:\n",
    "                self._files[name] = int(info)\n",
    "    \n",
    "    def cd(self, directory):\n",
    "        if directory == \"..\":\n",
    "            return self.parent\n",
    "        return self._directories[directory]\n",
    "                \n",
    "    def local_size(self) -> int:\n",
    "        return sum(filesize for filesize in self._files.values())\n",
    "\n",
    "    def size(self) -> int:\n",
    "        return self.local_size() + sum(directory.size() for directory in self._directories.values())\n",
    "    \n",
    "    def all_directories(self):\n",
    "        return [self] + [subdir for directory in self._directories.values() for subdir in directory.all_directories()]\n",
    "\n",
    "    \n",
    "class File:\n",
    "    def __init__(self, name, size):\n",
    "        self.name = name\n",
    "        self.size = size\n",
    "\n",
    "\n",
    "def parse_terminal(output):\n",
    "    global ALL_FILES\n",
    "    ALL_FILES = {}\n",
    "    return deque([tuple(row.split()) for row in output.strip().split(\"\\n\")])\n",
    "\n",
    "\n",
    "def map_filesystem(terminal_output: deque):\n",
    "    filesystem_root = Directory(\"/\", None)\n",
    "    cwd = None\n",
    "    while terminal_output:\n",
    "        command = terminal_output.popleft()\n",
    "        match command:\n",
    "            case \"$\", \"cd\", path:\n",
    "                if path == \"/\":\n",
    "                    cwd = filesystem_root\n",
    "                else:\n",
    "                    cwd = cwd.cd(path)\n",
    "            case \"$\", \"ls\":\n",
    "                listing = []\n",
    "                while terminal_output and \"$\" not in terminal_output[0]:\n",
    "                    listing.append(terminal_output.popleft())\n",
    "                cwd.ls(listing)\n",
    "    return filesystem_root\n",
    "\n",
    "\n",
    "filesystem_root = map_filesystem(parse_terminal(test_input))\n",
    "assert filesystem_root.cd(\"a\").cd(\"e\").size() == 584\n",
    "assert filesystem_root.cd(\"a\").size() == 94853\n",
    "assert filesystem_root.cd(\"d\").size() == 24933642\n",
    "assert filesystem_root.size() == 48381165\n",
    "assert len(filesystem_root.all_directories()) == 4"
   ]
  },
  {
   "cell_type": "code",
   "execution_count": 215,
   "id": "601081bc-43b1-4b2d-b9e7-b947a3d5a4a0",
   "metadata": {},
   "outputs": [],
   "source": [
    "# Part 1 - Test\n",
    "filesystem_root = map_filesystem(parse_terminal(test_input))\n",
    "assert sum(size for size in [d.size() for d in filesystem_root.all_directories()] if size <= 100000) == 95437"
   ]
  },
  {
   "cell_type": "code",
   "execution_count": 216,
   "id": "7a8c33cb-ce88-47b0-a587-7d94eb3ebdfe",
   "metadata": {},
   "outputs": [
    {
     "name": "stdout",
     "output_type": "stream",
     "text": [
      "1367870\n"
     ]
    }
   ],
   "source": [
    "# Part 1\n",
    "# Guesses: 1293614 (low)\n",
    "output = parse_terminal(Path(\"input.txt\").read_text())\n",
    "filesystem_root = map_filesystem(output)\n",
    "print(sum(size for size in [d.size() for d in filesystem_root.all_directories()] if size <= 100000))"
   ]
  },
  {
   "cell_type": "code",
   "execution_count": 217,
   "id": "da93df46-cc33-4434-abd5-d31495994c96",
   "metadata": {},
   "outputs": [],
   "source": [
    "# Part 2 - Test\n",
    "filesystem_root = map_filesystem(parse_terminal(test_input))\n",
    "available_space = FILESYSTEM_SIZE - filesystem_root.size()\n",
    "needed_space = UPDATE_SIZE - available_space\n",
    "smallest_enough_directory_size = sorted([size for size in [d.size() for d in filesystem_root.all_directories()] if size >= needed_space])[0]\n",
    "assert smallest_enough_directory_size == 24933642"
   ]
  },
  {
   "cell_type": "code",
   "execution_count": 218,
   "id": "9a8a89f4-293b-48c8-85ea-eba7c031eefd",
   "metadata": {},
   "outputs": [
    {
     "name": "stdout",
     "output_type": "stream",
     "text": [
      "549173\n"
     ]
    }
   ],
   "source": [
    "# Part 2\n",
    "filesystem_root = map_filesystem(parse_terminal(Path(\"input.txt\").read_text()))\n",
    "available_space = FILESYSTEM_SIZE - filesystem_root.size()\n",
    "needed_space = UPDATE_SIZE - available_space\n",
    "smallest_enough_directory_size = sorted([size for size in [d.size() for d in filesystem_root.all_directories()] if size >= needed_space])[0]\n",
    "print(smallest_enough_directory_size)"
   ]
  }
 ],
 "metadata": {
  "kernelspec": {
   "display_name": "Python 3 (ipykernel)",
   "language": "python",
   "name": "python3"
  },
  "language_info": {
   "codemirror_mode": {
    "name": "ipython",
    "version": 3
   },
   "file_extension": ".py",
   "mimetype": "text/x-python",
   "name": "python",
   "nbconvert_exporter": "python",
   "pygments_lexer": "ipython3",
   "version": "3.11.0"
  }
 },
 "nbformat": 4,
 "nbformat_minor": 5
}
