{
 "cells": [
  {
   "cell_type": "code",
   "execution_count": 2,
   "id": "9ba75edc-00a1-472d-a0b0-581a4ba3b864",
   "metadata": {},
   "outputs": [],
   "source": [
    "from pathlib import Path"
   ]
  },
  {
   "cell_type": "code",
   "execution_count": 17,
   "id": "b55b2da9-a4d0-4653-bf36-9035a92863bf",
   "metadata": {},
   "outputs": [],
   "source": [
    "test_input_1 = \"mjqjpqmgbljsphdztnvjfqwrcgsmlb\"\n",
    "test_input_2 = \"bvwbjplbgvbhsrlpgdmjqwftvncz\"\n",
    "test_input_3 = \"nppdvjthqldpwncqszvftbrmjlhg\"\n",
    "test_input_4 = \"nznrnfrfntjfmvfwmzdfjlvtqnbhcprsg\"\n",
    "test_input_5 = \"zcfzfwzzqfrljwzlrfnpqdbhtmscgvjw\"\n",
    "\n",
    "def get_marker_index(datastream, marker_size=4):\n",
    "    for i in range(marker_size, len(datastream)):\n",
    "        if len(set(datastream[i-marker_size:i])) == marker_size:\n",
    "            return i\n",
    "    return None\n",
    "\n",
    "assert get_marker_index(test_input_1) == 7\n",
    "assert get_marker_index(test_input_2) == 5\n",
    "assert get_marker_index(test_input_3) == 6\n",
    "assert get_marker_index(test_input_4) == 10\n",
    "assert get_marker_index(test_input_5) == 11\n",
    "\n",
    "assert get_marker_index(test_input_1, 14) == 19\n",
    "assert get_marker_index(test_input_2, 14) == 23\n",
    "assert get_marker_index(test_input_3, 14) == 23\n",
    "assert get_marker_index(test_input_4, 14) == 29\n",
    "assert get_marker_index(test_input_5, 14) == 26\n"
   ]
  },
  {
   "cell_type": "code",
   "execution_count": 16,
   "id": "63c4bd9f-74d4-4e44-b808-f28f108ac937",
   "metadata": {},
   "outputs": [
    {
     "name": "stdout",
     "output_type": "stream",
     "text": [
      "1300\n"
     ]
    }
   ],
   "source": [
    "# Part 1\n",
    "databuffer = Path(\"input.txt\").read_text().strip()\n",
    "print(get_marker_index(databuffer))"
   ]
  },
  {
   "cell_type": "code",
   "execution_count": 18,
   "id": "ed913212-b9d8-4f7c-a4b3-2194c6f11279",
   "metadata": {},
   "outputs": [
    {
     "name": "stdout",
     "output_type": "stream",
     "text": [
      "3986\n"
     ]
    }
   ],
   "source": [
    "# Part 2\n",
    "databuffer = Path(\"input.txt\").read_text().strip()\n",
    "print(get_marker_index(databuffer, marker_size=14))"
   ]
  }
 ],
 "metadata": {
  "kernelspec": {
   "display_name": "Python 3 (ipykernel)",
   "language": "python",
   "name": "python3"
  },
  "language_info": {
   "codemirror_mode": {
    "name": "ipython",
    "version": 3
   },
   "file_extension": ".py",
   "mimetype": "text/x-python",
   "name": "python",
   "nbconvert_exporter": "python",
   "pygments_lexer": "ipython3",
   "version": "3.11.0"
  }
 },
 "nbformat": 4,
 "nbformat_minor": 5
}
