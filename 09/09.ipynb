{
 "cells": [
  {
   "cell_type": "code",
   "execution_count": 1,
   "id": "01ad28c2-1ef1-4cdf-9c3c-4af53ad9a36e",
   "metadata": {},
   "outputs": [],
   "source": [
    "from pathlib import Path"
   ]
  },
  {
   "cell_type": "code",
   "execution_count": 2,
   "id": "c1b0f7ca-6065-4d63-b655-70067c190806",
   "metadata": {},
   "outputs": [],
   "source": [
    "test_input_1 = \"\"\"R 4\n",
    "U 4\n",
    "L 3\n",
    "D 1\n",
    "R 4\n",
    "D 1\n",
    "L 5\n",
    "R 2\"\"\"\n",
    "\n",
    "test_input_2 = \"\"\"R 5\n",
    "U 8\n",
    "L 8\n",
    "D 3\n",
    "R 17\n",
    "D 10\n",
    "L 25\n",
    "U 20\"\"\""
   ]
  },
  {
   "cell_type": "code",
   "execution_count": 3,
   "id": "f4da526b-ce5e-4f64-807e-00e6b53a4d0c",
   "metadata": {},
   "outputs": [],
   "source": [
    "DIRECTION_MAP = {\"L\": (-1, 0), \"R\": (1, 0), \"U\": (0, -1), \"D\": (0, 1)}\n",
    "\n",
    "def parse_input(rope_input):\n",
    "    return [\n",
    "        (direction, int(distance))\n",
    "        for direction, distance in [\n",
    "            row.split(\" \") for row in rope_input.strip().split(\"\\n\")]\n",
    "    ]\n",
    "\n",
    "\n",
    "def add_2d(a, b):\n",
    "    ax, ay = a\n",
    "    bx, by = b\n",
    "    return (ax+bx, ay+by)\n",
    "\n",
    "\n",
    "def subtract_2d(a, b):\n",
    "    ax, ay = a\n",
    "    bx, by = b\n",
    "    return (ax-bx, ay-by)\n",
    "\n",
    "\n",
    "def tail_swing(a, b):\n",
    "    x, y = subtract_2d(a, b)\n",
    "    if abs(x) < 2 and abs(y) < 2:\n",
    "        return (0, 0)\n",
    "    x = min(max(x, -1), 1)\n",
    "    y = min(max(y, -1), 1)\n",
    "    return x, y\n",
    "\n",
    "\n",
    "def move_rope(rope, instruction, trail):    \n",
    "    direction, distance = instruction\n",
    "    direction = DIRECTION_MAP[direction]\n",
    "    for _ in range(distance):\n",
    "        head, *tail = rope\n",
    "        new_rope = [add_2d(head, direction)]        \n",
    "        for n, knot in enumerate(tail):\n",
    "            new_rope.append(add_2d(knot, tail_swing(new_rope[n], knot)))\n",
    "        rope = new_rope\n",
    "        trail.add(rope[-1])\n",
    "    return rope, trail"
   ]
  },
  {
   "cell_type": "code",
   "execution_count": 4,
   "id": "76b71cf7-083d-45e9-b9e0-e714c1963baa",
   "metadata": {},
   "outputs": [],
   "source": [
    "# Part 1 - Test\n",
    "instructions = parse_input(test_input_1)\n",
    "rope = [(0,0), (0,0)]\n",
    "trail = {rope[-1]}\n",
    "for instruction in instructions:\n",
    "    rope, trail = move_rope(rope, instruction, trail)\n",
    "\n",
    "assert len(trail) == 13"
   ]
  },
  {
   "cell_type": "code",
   "execution_count": 5,
   "id": "d1527757-8706-47ad-a5b6-303eb8b9059f",
   "metadata": {},
   "outputs": [
    {
     "name": "stdout",
     "output_type": "stream",
     "text": [
      "6011\n"
     ]
    }
   ],
   "source": [
    "# Part 1\n",
    "instructions = parse_input(Path(\"input.txt\").read_text())\n",
    "rope = [(0,0), (0,0)]\n",
    "trail = {rope[-1]}\n",
    "for instruction in instructions:\n",
    "    rope, trail = move_rope(rope, instruction, trail)\n",
    "\n",
    "print(len(trail))"
   ]
  },
  {
   "cell_type": "code",
   "execution_count": 6,
   "id": "0d2fd928-389a-4f74-a42d-a103db8dab77",
   "metadata": {},
   "outputs": [],
   "source": [
    "# Part 2 - Test\n",
    "instructions = parse_input(test_input_1)\n",
    "rope = [(0, 0), (0, 0), (0, 0), (0, 0), (0, 0), (0, 0), (0, 0), (0, 0), (0, 0), (0, 0)]\n",
    "trail = {rope[-1]}\n",
    "for instruction in instructions:\n",
    "    rope, trail = move_rope(rope, instruction, trail)\n",
    "\n",
    "assert len(trail) == 1\n",
    "\n",
    "instructions = parse_input(test_input_2)\n",
    "rope = [(0, 0), (0, 0), (0, 0), (0, 0), (0, 0), (0, 0), (0, 0), (0, 0), (0, 0), (0, 0)]\n",
    "trail = {rope[-1]}\n",
    "for instruction in instructions:\n",
    "    rope, trail = move_rope(rope, instruction, trail)\n",
    "\n",
    "assert len(trail) == 36"
   ]
  },
  {
   "cell_type": "code",
   "execution_count": 7,
   "id": "6102e39e-9de1-4e7a-8a8b-5f2b36cc5a3a",
   "metadata": {},
   "outputs": [
    {
     "name": "stdout",
     "output_type": "stream",
     "text": [
      "2419\n"
     ]
    }
   ],
   "source": [
    "# Part 2\n",
    "instructions = parse_input(Path(\"input.txt\").read_text())\n",
    "rope = [(0, 0), (0, 0), (0, 0), (0, 0), (0, 0), (0, 0), (0, 0), (0, 0), (0, 0), (0, 0)]\n",
    "trail = {rope[-1]}\n",
    "for instruction in instructions:\n",
    "    rope, trail = move_rope(rope, instruction, trail)\n",
    "\n",
    "print(len(trail))"
   ]
  }
 ],
 "metadata": {
  "kernelspec": {
   "display_name": "Python 3 (ipykernel)",
   "language": "python",
   "name": "python3"
  },
  "language_info": {
   "codemirror_mode": {
    "name": "ipython",
    "version": 3
   },
   "file_extension": ".py",
   "mimetype": "text/x-python",
   "name": "python",
   "nbconvert_exporter": "python",
   "pygments_lexer": "ipython3",
   "version": "3.11.0"
  }
 },
 "nbformat": 4,
 "nbformat_minor": 5
}
