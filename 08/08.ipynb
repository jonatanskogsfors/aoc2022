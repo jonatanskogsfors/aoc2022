{
 "cells": [
  {
   "cell_type": "code",
   "execution_count": 1,
   "id": "76691522-95e0-4446-a1a8-57527fa113fe",
   "metadata": {},
   "outputs": [],
   "source": [
    "from pathlib import Path\n",
    "from itertools import product"
   ]
  },
  {
   "cell_type": "code",
   "execution_count": 2,
   "id": "7de8171b-da2c-4d98-a4cf-478da5b89dd3",
   "metadata": {},
   "outputs": [],
   "source": [
    "test_input = \"\"\"30373\n",
    "25512\n",
    "65332\n",
    "33549\n",
    "35390\"\"\""
   ]
  },
  {
   "cell_type": "code",
   "execution_count": 36,
   "id": "d9afd146-4f9e-4ec9-9505-88994f09a28a",
   "metadata": {},
   "outputs": [],
   "source": [
    "def parse_input(tree_input):\n",
    "    return [[int(number) for number in row] for row in tree_input.strip().split(\"\\n\")]\n",
    "\n",
    "def map_size(trees):\n",
    "    return len(trees[0]), len(trees)\n",
    "\n",
    "def get_visible(trees):\n",
    "    width, height = map_size(trees)\n",
    "    visible = set(\n",
    "        [(x, y) for y in (0, height-1) for x in range(width)] + \n",
    "        [(x, y) for y in range(height) for x in (0, width-1)]\n",
    "    )\n",
    "    for y, row in enumerate(trees):\n",
    "        for x, number in enumerate(row):\n",
    "            if (x,y) in visible:\n",
    "                continue\n",
    "            if is_visible(x, y, trees):\n",
    "                visible.add((x, y))\n",
    "    return visible\n",
    "\n",
    "\n",
    "def row_column(x, y, trees):\n",
    "    row = trees[y]\n",
    "    col = [trees[r][x] for r in range(len(trees))]\n",
    "    return row, col\n",
    "    \n",
    "    \n",
    "def is_visible(x, y, trees):\n",
    "    number = trees[y][x]\n",
    "    row, col = row_column(x, y, trees)\n",
    "    return (\n",
    "        number > max(row[:x]) or\n",
    "        number > max(row[x+1:]) or\n",
    "        number > max(col[:y]) or\n",
    "        number > max(col[y+1:])\n",
    "    )\n",
    "\n",
    "def visible_trees(height, line_of_trees):\n",
    "    visible = set()\n",
    "    for n, tree in enumerate(line_of_trees):\n",
    "        visible.add(n)\n",
    "        if tree >= height:\n",
    "            break        \n",
    "    return len(visible)\n",
    "\n",
    "def scenic_score(x, y, trees):\n",
    "    tree_height = trees[y][x]\n",
    "    row, col = row_column(x, y, trees)\n",
    "    left = visible_trees(tree_height, row[x-1::-1])\n",
    "    right = visible_trees(tree_height, row[x+1:])\n",
    "    down = visible_trees(tree_height, col[y+1:])\n",
    "    up = visible_trees(tree_height, col[y-1::-1])\n",
    "    return left * right * down * up\n",
    "        \n",
    "    \n",
    "trees = parse_input(test_input)\n",
    "assert is_visible(1, 1, trees)\n",
    "assert is_visible(2, 1, trees)\n",
    "assert not is_visible(3, 1, trees)\n",
    "assert is_visible(1, 2, trees)\n",
    "assert not is_visible(2, 2, trees)\n",
    "assert is_visible(3, 2, trees)\n",
    "assert not is_visible(1, 3, trees)\n",
    "assert is_visible(2, 3, trees)\n",
    "assert not is_visible(3, 3, trees)\n",
    "\n",
    "assert visible_trees(5, [3]) == 1\n",
    "assert visible_trees(5, [1,2]) == 2\n",
    "assert visible_trees(5, [3, 5, 3]) == 2\n",
    "assert visible_trees(5, [5, 2]) == 1\n",
    "\n",
    "assert visible_trees(5, [3, 5, 3]) == 2\n",
    "assert visible_trees(5, [4, 9]) == 2\n",
    "assert visible_trees(5, [3]) == 1\n",
    "assert visible_trees(5, [3, 3]) == 2\n",
    "\n",
    "assert scenic_score(2, 1, trees) == 4\n",
    "assert scenic_score(2, 3, trees) == 8"
   ]
  },
  {
   "cell_type": "code",
   "execution_count": 37,
   "id": "fc8b5587-77df-4541-97d7-036f16946efc",
   "metadata": {},
   "outputs": [],
   "source": [
    "# Part 1 - Test\n",
    "assert len(get_visible(parse_input(test_input))) == 21"
   ]
  },
  {
   "cell_type": "code",
   "execution_count": 38,
   "id": "a13a5b67-a554-4a9e-a22f-15aff80025c5",
   "metadata": {},
   "outputs": [
    {
     "name": "stdout",
     "output_type": "stream",
     "text": [
      "1785\n"
     ]
    }
   ],
   "source": [
    "# Part 1\n",
    "print(len(get_visible(parse_input(Path(\"input.txt\").read_text()))))"
   ]
  },
  {
   "cell_type": "code",
   "execution_count": 39,
   "id": "70fba0f0-816e-45cd-8c58-2c020618006f",
   "metadata": {},
   "outputs": [
    {
     "name": "stdout",
     "output_type": "stream",
     "text": [
      "\n"
     ]
    }
   ],
   "source": [
    "# Part 2 - Test\n",
    "trees = parse_input(test_input)\n",
    "width, height = map_size(trees)\n",
    "print()\n",
    "assert max(scenic_score(x, y, trees) for x, y in product(range(1, width-1), range(1, height-1))) == 8"
   ]
  },
  {
   "cell_type": "code",
   "execution_count": 40,
   "id": "10bcd693-1e57-436f-88e0-1bbb8949cd3b",
   "metadata": {},
   "outputs": [
    {
     "name": "stdout",
     "output_type": "stream",
     "text": [
      "345168\n"
     ]
    }
   ],
   "source": [
    "# Part 2\n",
    "# Guesses: 216 (low), 2100\n",
    "trees = parse_input(Path(\"input.txt\").read_text())\n",
    "width, height = map_size(trees)\n",
    "print(max(scenic_score(x, y, trees) for x, y in product(range(1, width-1), range(1, height-1))))"
   ]
  }
 ],
 "metadata": {
  "kernelspec": {
   "display_name": "Python 3 (ipykernel)",
   "language": "python",
   "name": "python3"
  },
  "language_info": {
   "codemirror_mode": {
    "name": "ipython",
    "version": 3
   },
   "file_extension": ".py",
   "mimetype": "text/x-python",
   "name": "python",
   "nbconvert_exporter": "python",
   "pygments_lexer": "ipython3",
   "version": "3.11.0"
  }
 },
 "nbformat": 4,
 "nbformat_minor": 5
}
