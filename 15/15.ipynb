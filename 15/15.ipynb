{
 "cells": [
  {
   "cell_type": "code",
   "execution_count": 1,
   "id": "cdf7db7d-ea41-41d6-9402-028ccc0c477c",
   "metadata": {},
   "outputs": [],
   "source": [
    "import re\n",
    "from pathlib import Path\n",
    "import itertools"
   ]
  },
  {
   "cell_type": "code",
   "execution_count": 2,
   "id": "3bf5b675-0f1f-4870-a958-e9f15ec39fae",
   "metadata": {},
   "outputs": [],
   "source": [
    "test_input = \"\"\"Sensor at x=2, y=18: closest beacon is at x=-2, y=15\n",
    "Sensor at x=9, y=16: closest beacon is at x=10, y=16\n",
    "Sensor at x=13, y=2: closest beacon is at x=15, y=3\n",
    "Sensor at x=12, y=14: closest beacon is at x=10, y=16\n",
    "Sensor at x=10, y=20: closest beacon is at x=10, y=16\n",
    "Sensor at x=14, y=17: closest beacon is at x=10, y=16\n",
    "Sensor at x=8, y=7: closest beacon is at x=2, y=10\n",
    "Sensor at x=2, y=0: closest beacon is at x=2, y=10\n",
    "Sensor at x=0, y=11: closest beacon is at x=2, y=10\n",
    "Sensor at x=20, y=14: closest beacon is at x=25, y=17\n",
    "Sensor at x=17, y=20: closest beacon is at x=21, y=22\n",
    "Sensor at x=16, y=7: closest beacon is at x=15, y=3\n",
    "Sensor at x=14, y=3: closest beacon is at x=15, y=3\n",
    "Sensor at x=20, y=1: closest beacon is at x=15, y=3\n",
    "\"\"\""
   ]
  },
  {
   "cell_type": "code",
   "execution_count": 3,
   "id": "4f42ddb0-6d2d-422c-b139-7974c54ab317",
   "metadata": {
    "tags": []
   },
   "outputs": [],
   "source": [
    "SENSOR_PATTERN = re.compile(\"Sensor at x=(-?\\d+), y=(-?\\d+): closest beacon is at x=(-?\\d+), y=(-?\\d+)\")\n",
    "\n",
    "class Sensor:\n",
    "    def __init__(self, sensor, beacon):\n",
    "        self.sensor = sensor\n",
    "        self.beacon = beacon\n",
    "        self.distance = manhattan(sensor, beacon)\n",
    "        self.min_y = int(self.sensor.imag - self.distance)\n",
    "        self.max_y = int(self.sensor.imag + self.distance)\n",
    "    \n",
    "    def on_row(self, row):\n",
    "        return self.min_y <= row <= self.max_y\n",
    "            \n",
    "    def skip_on_row(self, row):\n",
    "        offset = int(abs(row - self.sensor.imag))\n",
    "        zone_width = 2*(self.distance - offset) + 1\n",
    "        zone_start = int(self.sensor.real - zone_width // 2)\n",
    "        return zone_start, zone_start + zone_width\n",
    "        \n",
    "    def impossible_in_row(self, row):\n",
    "        offset = int(abs(row - self.sensor.imag))\n",
    "        zone_width = 2*(self.distance - offset) + 1\n",
    "        zone_start = int(self.sensor.real - zone_width // 2)\n",
    "        #print(f\"{self.sensor=} {row=} {self.distance=} {zone_width=} {zone_start=}\")\n",
    "        return {complex(x, row) for x in range(zone_start, zone_start + zone_width) if complex(x, row) != self.beacon}\n",
    "\n",
    "    def sensor_position(self):\n",
    "        return int(self.sensor.real), int(self.sensor.imag)\n",
    "    \n",
    "    def beacon_position(self):\n",
    "        return int(self.beacon.real), int(self.beacon.imag)\n",
    "\n",
    "\n",
    "def parse_input(sensor_input):\n",
    "    return [\n",
    "        Sensor(complex(a, b), complex(c, d))\n",
    "        for a, b, c, d in [\n",
    "            tuple(map(int, match.groups()))\n",
    "            for match in  SENSOR_PATTERN.finditer(sensor_input.strip())\n",
    "        ]\n",
    "    ]\n",
    "\n",
    "def beacon_free_columns(row, sensors):\n",
    "    combined_zone = set()\n",
    "    for sensor in sensors:\n",
    "        combined_zone |= sensor.impossible_in_row(row)\n",
    "    return combined_zone\n",
    "\n",
    "def zone(sensor):\n",
    "    return {sensor.sensor + complex(x, y)\n",
    "     for y in range(-sensor.distance, sensor.distance + 1)\n",
    "     for x in range(-(abs(sensor.distance)-abs(y)), abs(sensor.distance)-abs(y) + 1)\n",
    "     if sensor.sensor + complex(x, y) not in (sensor.sensor, sensor.beacon) \n",
    "    }\n",
    "\n",
    "def manhattan(a, b):\n",
    "    distance = a - b\n",
    "    return int(abs(distance.real) + abs(distance.imag))\n",
    "\n",
    "def posible_beacons_in_space(sensors, xs, ys):\n",
    "    possible = set()\n",
    "    for row in range(ys[0], ys[1]):\n",
    "        skips = sorted([sensor.skip_on_row(row) for sensor in sensors if sensor.on_row(row)], reverse=True)\n",
    "        x, row_last = xs\n",
    "        while skips:\n",
    "            if x > row_last:\n",
    "                break\n",
    "            skip_first, skip_last = skips.pop()\n",
    "            if skip_last < x:\n",
    "                continue\n",
    "            elif skip_first <= x:\n",
    "                x = max(x, skip_last)\n",
    "            else:\n",
    "                possible.add(complex(x, row))\n",
    "                x += 1\n",
    "    return list(possible)\n",
    "\n",
    "def tuning_frequency(position):\n",
    "    return int(position.real * 4000000 + position.imag)\n",
    "\n",
    "def print_sensors(sensors, xs=(-10, 20), ys=(-10, 20)):\n",
    "    zones = set()\n",
    "    for sensor in sensors:\n",
    "        zones |= zone(sensor)\n",
    "\n",
    "    sensor_positions = [sensor.sensor_position() for sensor in sensors]\n",
    "    beacon_positions = [sensor.beacon_position() for sensor in sensors]\n",
    "\n",
    "    for y in range(ys[0], ys[1]+1):\n",
    "        row = []\n",
    "        for x in range(xs[0], xs[1]+1):\n",
    "            if (x, y) in sensor_positions:\n",
    "                row.append(\"S\")\n",
    "            elif (x, y) in beacon_positions:\n",
    "                row.append(\"B\")\n",
    "            else:\n",
    "                row.append(\"#\" if complex(x, y) in zones else \".\")\n",
    "        print(f\"{y:02}\" + \"\".join(row))\n",
    "            \n",
    "    \n",
    "assert manhattan(complex(0, 0), complex(1, 2)) == 3\n",
    "assert manhattan(complex(-2, -2), complex(2, 2)) == 8\n",
    "assert manhattan(complex(42, -47), complex(42, -47)) == 0\n",
    "assert manhattan(complex(1, 2), complex(3, 4)) == 4\n",
    "assert (\n",
    "    manhattan(complex(5234, -2345), complex(82, 5324)) ==\n",
    "    manhattan(complex(82, 5324), complex(5234, -2345))\n",
    ")\n",
    "\n",
    "assert zone(Sensor(complex(0, 0), complex(1, 1))) == {\n",
    "    complex(x, y)\n",
    "    for x, y in (\n",
    "        (-2, 0),\n",
    "        (-1, 1), (-1, 0), (-1, -1),\n",
    "        (0, 2), (0, 1), (0, -1), (0, -2),\n",
    "        (1, 0), (1, -1),\n",
    "        (2, 0)\n",
    "    )\n",
    "}"
   ]
  },
  {
   "cell_type": "code",
   "execution_count": 4,
   "id": "52bc8118-f1ea-4f26-af1a-201a4438d7cd",
   "metadata": {},
   "outputs": [],
   "source": [
    "# Part 1 - test\n",
    "sensors = parse_input(test_input)\n",
    "assert len(beacon_free_columns(10, sensors)) == 26"
   ]
  },
  {
   "cell_type": "code",
   "execution_count": 5,
   "id": "048f3ec5-56f0-418b-ac0a-7b358a5bfecd",
   "metadata": {},
   "outputs": [
    {
     "data": {
      "text/plain": [
       "5112034"
      ]
     },
     "execution_count": 5,
     "metadata": {},
     "output_type": "execute_result"
    }
   ],
   "source": [
    "# Part 1\n",
    "sensors_and_beacons = parse_input(Path(\"input.txt\").read_text())\n",
    "len(beacon_free_columns(2000000, sensors_and_beacons))"
   ]
  },
  {
   "cell_type": "code",
   "execution_count": 6,
   "id": "4fb74fc6-9016-4d71-8936-0e823cd12282",
   "metadata": {},
   "outputs": [],
   "source": [
    "# Part 2 - test\n",
    "sensors = parse_input(test_input)\n",
    "beacons = posible_beacons_in_space(sensors, xs=(0, 20), ys=(0, 20))\n",
    "assert len(beacons) == 1\n",
    "assert tuning_frequency(beacons[0]) == 56000011"
   ]
  },
  {
   "cell_type": "code",
   "execution_count": 7,
   "id": "2ea619ec-1a93-42e7-a340-5e25e7ceff27",
   "metadata": {},
   "outputs": [
    {
     "data": {
      "text/plain": [
       "13172087230812"
      ]
     },
     "execution_count": 7,
     "metadata": {},
     "output_type": "execute_result"
    }
   ],
   "source": [
    "# Part 2\n",
    "sensors = parse_input(Path(\"input.txt\").read_text())\n",
    "beacons = posible_beacons_in_space(sensors, xs=(0, 4000000), ys=(0, 4000000))\n",
    "assert len(beacons) == 1\n",
    "tuning_frequency(beacons[0])"
   ]
  }
 ],
 "metadata": {
  "kernelspec": {
   "display_name": "Python 3 (ipykernel)",
   "language": "python",
   "name": "python3"
  },
  "language_info": {
   "codemirror_mode": {
    "name": "ipython",
    "version": 3
   },
   "file_extension": ".py",
   "mimetype": "text/x-python",
   "name": "python",
   "nbconvert_exporter": "python",
   "pygments_lexer": "ipython3",
   "version": "3.11.0"
  }
 },
 "nbformat": 4,
 "nbformat_minor": 5
}
