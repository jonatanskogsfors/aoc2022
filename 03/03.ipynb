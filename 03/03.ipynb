{
 "cells": [
  {
   "cell_type": "code",
   "execution_count": 1,
   "id": "1e1b7505-da0d-49b3-993e-225c791c5285",
   "metadata": {},
   "outputs": [],
   "source": [
    "from pathlib import Path"
   ]
  },
  {
   "cell_type": "code",
   "execution_count": 2,
   "id": "42d81072-35b0-4dbb-b17e-8bd1b3b47ab0",
   "metadata": {},
   "outputs": [],
   "source": [
    "test_input = \"\"\"vJrwpWtwJgWrhcsFMMfFFhFp\n",
    "jqHRNqRjqzjGDLGLrsFMfFZSrLrFZsSL\n",
    "PmmdzqPrVvPwwTWBwg\n",
    "wMqvLMZHhHMvwLHjbvcjnnSBnvTQFn\n",
    "ttgJtRGJQctTZtZT\n",
    "CrZsJsPPZsGzwwsLwLmpwMDw\"\"\""
   ]
  },
  {
   "cell_type": "code",
   "execution_count": 58,
   "id": "5eca5b40-8af0-4466-995d-8db68cabf94f",
   "metadata": {},
   "outputs": [],
   "source": [
    "PRIORIES = \"abcdefghijklmnopqrstuvwxyzABCDEFGHIJKLMNOPQRSTUVWXYZ\"\n",
    "\n",
    "def parse_input(rucksack_string):\n",
    "    return rucksack_string.strip().split(\"\\n\")\n",
    "\n",
    "def shared_items(compartment):\n",
    "    a, b = compartment[:len(compartment)//2], compartment[len(compartment)//2:]\n",
    "    return \"\".join(set(a) & set(b))\n",
    "\n",
    "def shared_items_in_group(group):\n",
    "    g1 = set(group[0])\n",
    "    g2 = set(group[1])\n",
    "    g3 = set(group[2])\n",
    "    return \"\".join(g1 & g2 & g3)\n",
    "\n",
    "def priority(item):\n",
    "    return PRIORIES.find(item) + 1\n",
    "\n",
    "def get_rucksack_groups(rucksacks):\n",
    "    return [rucksacks[n*3:n*3+3] for n in range(len(rucksacks)//3)]\n",
    "        "
   ]
  },
  {
   "cell_type": "code",
   "execution_count": 60,
   "id": "3be1e6a3-6907-495d-b354-b9f9eb39aecf",
   "metadata": {},
   "outputs": [],
   "source": [
    "test_rucksacks = parse_input(test_input)\n",
    "\n",
    "assert test_rucksacks[0] == \"vJrwpWtwJgWrhcsFMMfFFhFp\"\n",
    "\n",
    "assert shared_items(test_rucksacks[0]) == \"p\"\n",
    "assert shared_items(test_rucksacks[1]) == \"L\"\n",
    "assert shared_items(test_rucksacks[2]) == \"P\"\n",
    "assert shared_items(test_rucksacks[3]) == \"v\"\n",
    "assert shared_items(test_rucksacks[4]) == \"t\"\n",
    "assert shared_items(test_rucksacks[5]) == \"s\"\n",
    "\n",
    "assert priority(\"a\") == 1\n",
    "assert priority(\"A\") == 27\n",
    "\n",
    "test_rucksack_groups = get_rucksack_groups(test_rucksacks)\n",
    "assert test_rucksack_groups[0] == [\n",
    "    \"vJrwpWtwJgWrhcsFMMfFFhFp\",\n",
    "    \"jqHRNqRjqzjGDLGLrsFMfFZSrLrFZsSL\",\n",
    "    \"PmmdzqPrVvPwwTWBwg\",\n",
    "]\n",
    "\n",
    "assert shared_items_in_group(test_rucksack_groups[0]) == \"r\"\n",
    "assert shared_items_in_group(test_rucksack_groups[1]) == \"Z\""
   ]
  },
  {
   "cell_type": "code",
   "execution_count": 31,
   "id": "770de647-9ed3-44ce-9160-e4749732524a",
   "metadata": {},
   "outputs": [],
   "source": [
    "# Part 1 - Test\n",
    "assert sum([priority(shared_items(rucksack)) for rucksack in test_rucksacks]) == 157"
   ]
  },
  {
   "cell_type": "code",
   "execution_count": 41,
   "id": "914a8319-c0e9-4716-991f-4169e46da552",
   "metadata": {},
   "outputs": [
    {
     "name": "stdout",
     "output_type": "stream",
     "text": [
      "8105\n"
     ]
    }
   ],
   "source": [
    "# Part 1\n",
    "# Bad guesses: 8106 (High)\n",
    "\n",
    "rucksacks = parse_input(Path(\"input.text\").read_text())\n",
    "print(sum([priority(shared_items(rucksack)) for rucksack in rucksacks]))"
   ]
  },
  {
   "cell_type": "code",
   "execution_count": 65,
   "id": "ea3852f6-fb3b-4e7c-a19f-53176438ecf4",
   "metadata": {},
   "outputs": [],
   "source": [
    "# Part 2 - Test\n",
    "test_rucksacks = parse_input(test_input)\n",
    "test_rucksack_groups = get_rucksack_groups(test_rucksacks)\n",
    "assert sum([priority(shared_items_in_group(group)) for group in test_rucksack_groups]) == 70"
   ]
  },
  {
   "cell_type": "code",
   "execution_count": 66,
   "id": "13e298d6-76ce-401a-a990-56c5b703745e",
   "metadata": {},
   "outputs": [
    {
     "name": "stdout",
     "output_type": "stream",
     "text": [
      "2363\n"
     ]
    }
   ],
   "source": [
    "# Part 2\n",
    "rucksacks = parse_input(Path(\"input.text\").read_text())\n",
    "rucksack_groups = get_rucksack_groups(rucksacks)\n",
    "print(sum([priority(shared_items_in_group(group)) for group in rucksack_groups]))"
   ]
  },
  {
   "cell_type": "code",
   "execution_count": null,
   "id": "c632950a-7442-4fbd-b501-4e3c1a0b0a95",
   "metadata": {},
   "outputs": [],
   "source": []
  }
 ],
 "metadata": {
  "kernelspec": {
   "display_name": "Python 3 (ipykernel)",
   "language": "python",
   "name": "python3"
  },
  "language_info": {
   "codemirror_mode": {
    "name": "ipython",
    "version": 3
   },
   "file_extension": ".py",
   "mimetype": "text/x-python",
   "name": "python",
   "nbconvert_exporter": "python",
   "pygments_lexer": "ipython3",
   "version": "3.11.0"
  }
 },
 "nbformat": 4,
 "nbformat_minor": 5
}
