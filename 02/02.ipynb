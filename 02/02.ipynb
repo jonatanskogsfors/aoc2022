{
 "cells": [
  {
   "cell_type": "code",
   "execution_count": 1,
   "id": "713cf79e-8e53-4af6-832c-c281f34a0b79",
   "metadata": {},
   "outputs": [],
   "source": [
    "from pathlib import Path"
   ]
  },
  {
   "cell_type": "code",
   "execution_count": 85,
   "id": "1c68a6a6-8704-4933-8756-c98cc09d884c",
   "metadata": {},
   "outputs": [],
   "source": [
    "test_input = \"\"\"A Y\n",
    "B X\n",
    "C Z\n",
    "\"\"\""
   ]
  },
  {
   "cell_type": "code",
   "execution_count": 86,
   "id": "f697c777-2905-4854-b94b-e37c3a2d1fc2",
   "metadata": {},
   "outputs": [],
   "source": [
    "def parse_input(text_input):\n",
    "    return [tuple(row.split()) for row in text_input.strip().split(\"\\n\")]\n",
    "\n",
    "HAND_VALUE = {\n",
    "        \"A\": 1, # Rock\n",
    "        \"B\": 2, # Paper\n",
    "        \"C\": 3, # Sciccors\n",
    "    }\n",
    "\n",
    "RULES = {\n",
    "        \"A\": {\"A\": 3, \"B\": 6, \"C\": 0},\n",
    "        \"B\": {\"A\": 0, \"B\": 3, \"C\": 6},\n",
    "        \"C\": {\"A\": 6, \"B\": 0, \"C\": 3}\n",
    "    }\n",
    "\n",
    "def play(a, b):\n",
    "    b_substitution = {\"X\": \"A\", \"Y\": \"B\", \"Z\": \"C\"}\n",
    "    hand = b_substitution[b]\n",
    "    return HAND_VALUE[hand] + RULES[a][hand]\n",
    "\n",
    "def play_corrected(a, b):\n",
    "    goal = {\"X\": 0, \"Y\": 3, \"Z\": 6}\n",
    "    hand = [hand for hand, outcome in RULES[a].items() if outcome == goal[b]][0]\n",
    "    return HAND_VALUE[hand] + RULES[a][hand]"
   ]
  },
  {
   "cell_type": "code",
   "execution_count": 87,
   "id": "be7b797e-10a9-4c18-b1e5-9a552e86ab25",
   "metadata": {},
   "outputs": [],
   "source": [
    "strategy = parse_input(test_input)\n",
    "\n",
    "assert play(*strategy[0]) == 8\n",
    "assert play(*strategy[1]) == 1\n",
    "assert play(*strategy[2]) == 6\n",
    "assert sum(play(a,b) for a,b in strategy) == 15\n",
    "\n",
    "assert play_corrected(*strategy[0]) == 4\n",
    "assert play_corrected(*strategy[1]) == 1\n",
    "assert play_corrected(*strategy[2]) == 7\n",
    "assert sum(play_corrected(a,b) for a,b in strategy) == 12"
   ]
  },
  {
   "cell_type": "code",
   "execution_count": 88,
   "id": "1e9a3b0c-aed3-4d2e-ba25-21717e1bfa8c",
   "metadata": {},
   "outputs": [
    {
     "name": "stdout",
     "output_type": "stream",
     "text": [
      "13675\n"
     ]
    }
   ],
   "source": [
    "# Part 1\n",
    "strategy = parse_input(Path(\"input.txt\").read_text())\n",
    "print(sum(play(a,b) for a,b in strategy))"
   ]
  },
  {
   "cell_type": "code",
   "execution_count": 84,
   "id": "cda256b7-ac4c-489d-becb-0de2982eaf53",
   "metadata": {},
   "outputs": [
    {
     "name": "stdout",
     "output_type": "stream",
     "text": [
      "14184\n"
     ]
    }
   ],
   "source": [
    "# Part 2\n",
    "strategy = parse_input(Path(\"input.txt\").read_text())\n",
    "print(sum(play_corrected(a,b) for a,b in strategy))"
   ]
  },
  {
   "cell_type": "code",
   "execution_count": null,
   "id": "594467c0-db9e-4575-a8e5-66cab3d8a428",
   "metadata": {},
   "outputs": [],
   "source": []
  }
 ],
 "metadata": {
  "kernelspec": {
   "display_name": "Python 3 (ipykernel)",
   "language": "python",
   "name": "python3"
  },
  "language_info": {
   "codemirror_mode": {
    "name": "ipython",
    "version": 3
   },
   "file_extension": ".py",
   "mimetype": "text/x-python",
   "name": "python",
   "nbconvert_exporter": "python",
   "pygments_lexer": "ipython3",
   "version": "3.11.0"
  }
 },
 "nbformat": 4,
 "nbformat_minor": 5
}
