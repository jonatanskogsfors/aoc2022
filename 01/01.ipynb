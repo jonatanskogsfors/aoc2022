{
 "cells": [
  {
   "cell_type": "code",
   "execution_count": 6,
   "id": "6341dc24-d4b3-4366-9475-65f03570226c",
   "metadata": {},
   "outputs": [],
   "source": [
    "from pathlib import Path"
   ]
  },
  {
   "cell_type": "code",
   "execution_count": 1,
   "id": "db498b36-1ab8-4674-afe4-35a69e9ee794",
   "metadata": {},
   "outputs": [],
   "source": [
    "test_input = \"\"\"1000\n",
    "2000\n",
    "3000\n",
    "\n",
    "4000\n",
    "\n",
    "5000\n",
    "6000\n",
    "\n",
    "7000\n",
    "8000\n",
    "9000\n",
    "\n",
    "10000\"\"\""
   ]
  },
  {
   "cell_type": "code",
   "execution_count": 4,
   "id": "18dbbe83-1ca2-46ab-8d5c-d5bc8630b44e",
   "metadata": {},
   "outputs": [],
   "source": [
    "# Part 1 - Test\n",
    "elves_inventories = [[int(row) for row in group.split(\"\\n\")] for group in test_input.split(\"\\n\\n\")]\n",
    "elves_inventories\n",
    "\n",
    "max_calories = 0\n",
    "for elf in elves_inventories:\n",
    "    max_calories = max(max_calories, sum(elf))\n",
    "print(max_calories)"
   ]
  },
  {
   "cell_type": "code",
   "execution_count": 10,
   "id": "100058cb-23e7-4951-86af-a62cc34e729a",
   "metadata": {},
   "outputs": [
    {
     "name": "stdout",
     "output_type": "stream",
     "text": [
      "68775\n"
     ]
    }
   ],
   "source": [
    "# Part 1\n",
    "elves_inventories = [[int(row) for row in group.split(\"\\n\")] for group in Path(\"input.txt\").read_text().strip().split(\"\\n\\n\")]\n",
    "max_calories = 0\n",
    "for elf in elves_inventories:\n",
    "    max_calories = max(max_calories, sum(elf))\n",
    "print(max_calories)"
   ]
  },
  {
   "cell_type": "code",
   "execution_count": 24,
   "id": "e700eff4-b990-4489-a9d0-1750c4b84618",
   "metadata": {},
   "outputs": [
    {
     "data": {
      "text/plain": [
       "202585"
      ]
     },
     "execution_count": 24,
     "metadata": {},
     "output_type": "execute_result"
    }
   ],
   "source": [
    "# Part 2\n",
    "elves_inventories = [sum([int(row) for row in group.split(\"\\n\")]) for group in Path(\"input.txt\").read_text().strip().split(\"\\n\\n\")]\n",
    "elves_inventories.sort(reverse=True)\n",
    "sum(elves_inventories[:3])\n"
   ]
  },
  {
   "cell_type": "code",
   "execution_count": null,
   "id": "3143261c-1a9c-46d3-848a-090d7480df69",
   "metadata": {},
   "outputs": [],
   "source": []
  }
 ],
 "metadata": {
  "kernelspec": {
   "display_name": "Python 3 (ipykernel)",
   "language": "python",
   "name": "python3"
  },
  "language_info": {
   "codemirror_mode": {
    "name": "ipython",
    "version": 3
   },
   "file_extension": ".py",
   "mimetype": "text/x-python",
   "name": "python",
   "nbconvert_exporter": "python",
   "pygments_lexer": "ipython3",
   "version": "3.11.0"
  }
 },
 "nbformat": 4,
 "nbformat_minor": 5
}
