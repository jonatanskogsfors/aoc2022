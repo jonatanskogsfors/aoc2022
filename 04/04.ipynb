{
 "cells": [
  {
   "cell_type": "code",
   "execution_count": 1,
   "id": "43cd1c06-3711-4893-8412-a3d68bfeddc0",
   "metadata": {},
   "outputs": [],
   "source": [
    "from pathlib import Path"
   ]
  },
  {
   "cell_type": "code",
   "execution_count": 2,
   "id": "b5109726-49bc-4ebf-a281-b5313fb0d65f",
   "metadata": {},
   "outputs": [],
   "source": [
    "test_input = \"\"\"2-4,6-8\n",
    "2-3,4-5\n",
    "5-7,7-9\n",
    "2-8,3-7\n",
    "6-6,4-6\n",
    "2-6,4-8\"\"\""
   ]
  },
  {
   "cell_type": "code",
   "execution_count": 43,
   "id": "fb97643c-d483-4517-89f3-8397d8e38451",
   "metadata": {},
   "outputs": [],
   "source": [
    "def parse_input(assignment_input):\n",
    "    return [\n",
    "        [tuple(map(int, elf.split(\"-\"))) for elf in pair.split(\",\")]\n",
    "        for pair in assignment_input.strip().split(\"\\n\")\n",
    "    ]\n",
    "\n",
    "def pair_fully_overlaps(pair):\n",
    "    elf_a, elf_b = pair\n",
    "    elf_a_assignment = set(range(elf_a[0], elf_a[1] + 1))\n",
    "    elf_b_assignment = set(range(elf_b[0], elf_b[1] + 1))\n",
    "    return elf_a_assignment <= elf_b_assignment or elf_b_assignment <= elf_a_assignment\n",
    "\n",
    "def pair_overlaps(pair):\n",
    "    elf_a, elf_b = pair\n",
    "    elf_a_assignment = set(range(elf_a[0], elf_a[1] + 1))\n",
    "    elf_b_assignment = set(range(elf_b[0], elf_b[1] + 1))\n",
    "    return not elf_a_assignment.isdisjoint(elf_b_assignment)\n",
    "\n",
    "pairs = parse_input(test_input)"
   ]
  },
  {
   "cell_type": "code",
   "execution_count": 40,
   "id": "79892ecc-c6fd-469d-adef-604e702884b3",
   "metadata": {},
   "outputs": [],
   "source": [
    "# Part 1 - Test\n",
    "test_pairs = parse_input(test_input)\n",
    "assert pair_fully_overlaps(test_pairs[0]) == False\n",
    "assert pair_fully_overlaps(test_pairs[1]) == False\n",
    "assert pair_fully_overlaps(test_pairs[2]) == False\n",
    "assert pair_fully_overlaps(test_pairs[3]) == True\n",
    "assert pair_fully_overlaps(test_pairs[4]) == True\n",
    "assert pair_fully_overlaps(test_pairs[5]) == False"
   ]
  },
  {
   "cell_type": "code",
   "execution_count": 42,
   "id": "92ab9489-f0c9-4028-a716-0f1c0fc10800",
   "metadata": {},
   "outputs": [
    {
     "name": "stdout",
     "output_type": "stream",
     "text": [
      "485\n"
     ]
    }
   ],
   "source": [
    "# Part 1\n",
    "pairs = parse_input(Path(\"input.txt\").read_text())\n",
    "print(len([pair for pair in pairs if pair_fully_overlaps(pair)]))"
   ]
  },
  {
   "cell_type": "code",
   "execution_count": 44,
   "id": "a90f8d7f-ec2e-4659-88b0-ec3de3eeb643",
   "metadata": {},
   "outputs": [],
   "source": [
    "# Part 2 - Test\n",
    "test_pairs = parse_input(test_input)\n",
    "assert pair_overlaps(test_pairs[0]) == False\n",
    "assert pair_overlaps(test_pairs[1]) == False\n",
    "assert pair_overlaps(test_pairs[2]) == True\n",
    "assert pair_overlaps(test_pairs[3]) == True\n",
    "assert pair_overlaps(test_pairs[4]) == True\n",
    "assert pair_overlaps(test_pairs[5]) == True"
   ]
  },
  {
   "cell_type": "code",
   "execution_count": 45,
   "id": "48deb4ba-3930-41d0-8a49-7c6be9224c2a",
   "metadata": {},
   "outputs": [
    {
     "name": "stdout",
     "output_type": "stream",
     "text": [
      "857\n"
     ]
    }
   ],
   "source": [
    "# Part 2\n",
    "pairs = parse_input(Path(\"input.txt\").read_text())\n",
    "print(len([pair for pair in pairs if pair_overlaps(pair)]))"
   ]
  },
  {
   "cell_type": "code",
   "execution_count": null,
   "id": "6c8bd210-acdf-40c8-8505-79f5595c758f",
   "metadata": {},
   "outputs": [],
   "source": []
  }
 ],
 "metadata": {
  "kernelspec": {
   "display_name": "Python 3 (ipykernel)",
   "language": "python",
   "name": "python3"
  },
  "language_info": {
   "codemirror_mode": {
    "name": "ipython",
    "version": 3
   },
   "file_extension": ".py",
   "mimetype": "text/x-python",
   "name": "python",
   "nbconvert_exporter": "python",
   "pygments_lexer": "ipython3",
   "version": "3.7.12"
  }
 },
 "nbformat": 4,
 "nbformat_minor": 5
}
