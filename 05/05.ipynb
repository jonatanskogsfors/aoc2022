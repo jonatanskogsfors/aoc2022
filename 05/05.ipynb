{
 "cells": [
  {
   "cell_type": "code",
   "execution_count": 13,
   "id": "27539c86-7298-46dd-bd7f-2caf4b5b1519",
   "metadata": {},
   "outputs": [],
   "source": [
    "from pathlib import Path\n",
    "from collections import deque"
   ]
  },
  {
   "cell_type": "code",
   "execution_count": 2,
   "id": "3dfd41e8-a49c-49aa-996c-388794597727",
   "metadata": {},
   "outputs": [],
   "source": [
    "test_input = \"\"\"    [D]    \n",
    "[N] [C]    \n",
    "[Z] [M] [P]\n",
    " 1   2   3 \n",
    "\n",
    "move 1 from 2 to 1\n",
    "move 3 from 1 to 3\n",
    "move 2 from 2 to 1\n",
    "move 1 from 1 to 2\"\"\""
   ]
  },
  {
   "cell_type": "code",
   "execution_count": 121,
   "id": "7c90507c-079c-4ca8-a665-de4cf3fcc9c4",
   "metadata": {},
   "outputs": [],
   "source": [
    "def parse_input(procedure_input):\n",
    "    crates, procedure = procedure_input.rstrip().split(\"\\n\\n\")\n",
    "    \n",
    "    *crates, columns = crates.split(\"\\n\")\n",
    "    columns = {column: deque() for column in map(int, columns.split(\"   \"))}\n",
    "    for row in reversed(crates):\n",
    "        for column in columns.keys():\n",
    "            crate = row[:3]\n",
    "            row = row[4:]\n",
    "            if crate.strip():\n",
    "                columns[column].appendleft(crate.strip(\"[\").strip(\"]\"))\n",
    "    \n",
    "    procedure = [\n",
    "        [int(p) for p in p.split(\" \") if p.isnumeric()]\n",
    "        for p in procedure.split(\"\\n\")\n",
    "    ]\n",
    "    return columns, procedure\n",
    "\n",
    "\n",
    "def apply_step_cratemover9000(crates, step):\n",
    "    number_of_crates, from_column, to_column = step\n",
    "    for _ in range(number_of_crates):\n",
    "        crates[to_column].appendleft(crates[from_column].popleft())\n",
    "    return crates\n",
    "\n",
    "def apply_step_cratemover9001(crates, step):\n",
    "    number_of_crates, from_column, to_column = step\n",
    "    move_crates = deque()\n",
    "    for _ in range(number_of_crates):\n",
    "        move_crates.appendleft(crates[from_column].popleft())\n",
    "    while move_crates:\n",
    "        crates[to_column].appendleft(move_crates.popleft())\n",
    "    return crates\n",
    "\n",
    "def apply_procedure(crates, procedure, crane=\"CrateMover9000\"):\n",
    "    match crane:\n",
    "        case \"CrateMover9000\":\n",
    "            step_function = apply_step_cratemover9000\n",
    "        case \"CrateMover9001\":\n",
    "            step_function = apply_step_cratemover9001\n",
    "\n",
    "    for step in procedure:\n",
    "        crates = step_function(crates, step)\n",
    "    return crates\n",
    "\n",
    "def get_message(crates):\n",
    "    return \"\".join(column[0] for column in crates.values())\n",
    "\n",
    "crates, procedure = parse_input(test_input)\n",
    "assert get_message(crates) == \"NDP\"\n",
    "assert \"\".join(crates[1]) == \"NZ\"\n",
    "assert \"\".join(crates[2]) == \"DCM\"\n",
    "assert \"\".join(crates[3]) == \"P\"\n",
    "\n",
    "crates = apply_step_cratemover9000(crates, procedure[0])\n",
    "assert \"\".join(crates[1]) == \"DNZ\"\n",
    "assert \"\".join(crates[2]) == \"CM\"\n",
    "assert \"\".join(crates[3]) == \"P\"\n",
    "\n",
    "crates = apply_step_cratemover9000(crates, procedure[1])\n",
    "assert \"\".join(crates[1]) == \"\"\n",
    "assert \"\".join(crates[2]) == \"CM\"\n",
    "assert \"\".join(crates[3]) == \"ZNDP\"\n",
    "\n",
    "crates, procedure = parse_input(test_input)\n",
    "crates = apply_step_cratemover9001(crates, procedure[0])\n",
    "assert \"\".join(crates[1]) == \"DNZ\"\n",
    "assert \"\".join(crates[2]) == \"CM\"\n",
    "assert \"\".join(crates[3]) == \"P\"\n",
    "\n",
    "crates = apply_step_cratemover9001(crates, procedure[1])\n",
    "assert \"\".join(crates[1]) == \"\"\n",
    "assert \"\".join(crates[2]) == \"CM\"\n",
    "assert \"\".join(crates[3]) == \"DNZP\""
   ]
  },
  {
   "cell_type": "code",
   "execution_count": 122,
   "id": "fcc48c7b-fcca-49d3-86a7-ceb5b1708fde",
   "metadata": {},
   "outputs": [],
   "source": [
    "# Part 1 - Test\n",
    "crates, procedure = parse_input(test_input)\n",
    "assert get_message(apply_procedure(crates, procedure)) == \"CMZ\""
   ]
  },
  {
   "cell_type": "code",
   "execution_count": 123,
   "id": "270fd765-fb59-4cfc-84c5-50b2bd95069a",
   "metadata": {},
   "outputs": [
    {
     "data": {
      "text/plain": [
       "'SHMSDGZVC'"
      ]
     },
     "execution_count": 123,
     "metadata": {},
     "output_type": "execute_result"
    }
   ],
   "source": [
    "# Part 1\n",
    "crates, procedure = parse_input(Path(\"input.txt\").read_text())\n",
    "get_message(apply_procedure(crates, procedure))"
   ]
  },
  {
   "cell_type": "code",
   "execution_count": 124,
   "id": "7f5ccb40-bcf5-44e5-a25d-64630991f69a",
   "metadata": {},
   "outputs": [],
   "source": [
    "# Part 2 - Test\n",
    "crates, procedure = parse_input(test_input)\n",
    "\n",
    "assert get_message(apply_procedure(crates, procedure, crane=\"CrateMover9001\")) == \"MCD\""
   ]
  },
  {
   "cell_type": "code",
   "execution_count": 125,
   "id": "63d381da-dc5c-44fb-8a7b-f24fe0f84498",
   "metadata": {},
   "outputs": [
    {
     "data": {
      "text/plain": [
       "'VRZGHDFBQ'"
      ]
     },
     "execution_count": 125,
     "metadata": {},
     "output_type": "execute_result"
    }
   ],
   "source": [
    "# Part 2\n",
    "crates, procedure = parse_input(Path(\"input.txt\").read_text())\n",
    "get_message(apply_procedure(crates, procedure, crane=\"CrateMover9001\"))"
   ]
  }
 ],
 "metadata": {
  "kernelspec": {
   "display_name": "Python 3 (ipykernel)",
   "language": "python",
   "name": "python3"
  },
  "language_info": {
   "codemirror_mode": {
    "name": "ipython",
    "version": 3
   },
   "file_extension": ".py",
   "mimetype": "text/x-python",
   "name": "python",
   "nbconvert_exporter": "python",
   "pygments_lexer": "ipython3",
   "version": "3.11.0"
  }
 },
 "nbformat": 4,
 "nbformat_minor": 5
}
